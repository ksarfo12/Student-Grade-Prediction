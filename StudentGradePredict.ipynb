{
 "cells": [
  {
   "cell_type": "code",
   "execution_count": null,
   "id": "dccefa73",
   "metadata": {},
   "outputs": [],
   "source": [
    "import pandas as pd\n",
    "import numpy as np\n",
    "import sklearn\n",
    "from sklearn import linear_model\n",
    "from sklearn.tree import DecisionTreeClassifier\n",
    "from sklearn.metrics import accuracy_score\n",
    "from sklearn.model_selection import train_test_split\n",
    "\n",
    "\n",
    "import pickle\n",
    "import matplotlib.pyplot as pyplot\n",
    "from matplotlib import style"
   ]
  },
  {
   "cell_type": "code",
   "execution_count": null,
   "id": "947aef2b",
   "metadata": {},
   "outputs": [],
   "source": [
    "data=pd.read_csv(\"student-mat.csv\")\n",
    "data=data[\"G1\",\"G2\",\"G3\",\"studytime\",\"failures\",\"absences\"]\n",
    "X=data.drop(columns=['G3'])\n",
    "y=data['G3']\n",
    "X_train,X_test,y_train,y_test=train_test_split(X,y,test_size=0.1)\n",
    "\n",
    "best=0\n",
    "for _ in range(30):\n",
    "X_train,X_test,y_train,y_test=train_test_split(X,y,test_size=0.1)"
   ]
  },
  {
   "cell_type": "code",
   "execution_count": null,
   "id": "f62bbe6c",
   "metadata": {},
   "outputs": [],
   "source": [
    "\n",
    "model=linear_model.LinearRegression()\n",
    "model.fit(X_train,y_train)\n",
    "acc=model.score(X_test,y_test)\n",
    "print(acc)\n",
    "if acc>best:\n",
    "    best=acc\n",
    "    with open(\"SavedModelName.pickle\",\"wb\") as f:\n",
    "    pickle.dump(model, f) ##this is for saving your model\n",
    "    \n",
    "pickle_in=open(\"SavedModelName.pickle\",\"rb\")\n",
    "model=pickle.load(pickle_in) #you can skip the above lines  in the box and run this"
   ]
  },
  {
   "cell_type": "code",
   "execution_count": null,
   "id": "90f1083d",
   "metadata": {},
   "outputs": [],
   "source": [
    "prediction=model.predict(X_test)\n",
    "for x in range (len(prediction)):\n",
    "    print(prediction[x],X_test[x],y_test[x])\n"
   ]
  },
  {
   "cell_type": "code",
   "execution_count": null,
   "id": "3f314935",
   "metadata": {},
   "outputs": [],
   "source": [
    "#Matplotlib \n",
    "p='G1'#any of the attributes\n",
    "style.use(\"ggplot\")\n",
    "pyplot.scatter(data[p],data[\"G3\"])\n",
    "pyplot.xlabel(p)\n",
    "pyplot.ylabel(\"Final Grades\")\n",
    "pyplot.show()"
   ]
  }
 ],
 "metadata": {
  "kernelspec": {
   "display_name": "Python 3 (ipykernel)",
   "language": "python",
   "name": "python3"
  },
  "language_info": {
   "codemirror_mode": {
    "name": "ipython",
    "version": 3
   },
   "file_extension": ".py",
   "mimetype": "text/x-python",
   "name": "python",
   "nbconvert_exporter": "python",
   "pygments_lexer": "ipython3",
   "version": "3.11.5"
  }
 },
 "nbformat": 4,
 "nbformat_minor": 5
}
